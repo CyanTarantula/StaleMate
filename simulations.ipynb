{
 "cells": [
  {
   "cell_type": "markdown",
   "metadata": {},
   "source": [
    "# Imports"
   ]
  },
  {
   "cell_type": "code",
   "execution_count": 1,
   "metadata": {},
   "outputs": [],
   "source": [
    "from chesswar import Board\n",
    "from player_models import *\n",
    "from score_heuristics import *\n",
    "import curses\n",
    "from curses import wrapper\n",
    "import time"
   ]
  },
  {
   "cell_type": "markdown",
   "metadata": {},
   "source": [
    "# Comparing Heuristics"
   ]
  },
  {
   "cell_type": "code",
   "execution_count": null,
   "metadata": {},
   "outputs": [],
   "source": [
    "players = [AlphaBetaPlayer, MinimaxPlayer]\n",
    "heuristics = [open_move_score, improved_om_score, center_score, weighted_om_score, farsighted_score]"
   ]
  },
  {
   "cell_type": "code",
   "execution_count": null,
   "metadata": {},
   "outputs": [],
   "source": [
    "average_runtimes = []\n",
    "\n",
    "for player in players:\n",
    "    player_runtimes = []\n",
    "    for heuristic in heuristics:\n",
    "        avg_time = 0\n",
    "        p1_wins = 0\n",
    "        for i in range(100):\n",
    "            start_time = time.time()\n",
    "            player1 = player(score_fn=heuristic)\n",
    "            player2 = player(score_fn=heuristic)\n",
    "            game = Board(player1, player2, player_1_piece='queen', player_2_piece='queen')\n",
    "            game.apply_move((0, 0))\n",
    "            game.apply_move((6, 6))\n",
    "            winner, history, outcome = game.play()\n",
    "            if(winner == player1):\n",
    "                p1_wins += 1\n",
    "            avg_time += (time.time() - start_time) * 1000\n",
    "        avg_time /= 100\n",
    "        player_runtimes.append(avg_time)\n",
    "    average_runtimes.append(player_runtimes) \n",
    "\n",
    " "
   ]
  }
 ],
 "metadata": {
  "kernelspec": {
   "display_name": "Python 3.9.1 64-bit",
   "language": "python",
   "name": "python3"
  },
  "language_info": {
   "codemirror_mode": {
    "name": "ipython",
    "version": 3
   },
   "file_extension": ".py",
   "mimetype": "text/x-python",
   "name": "python",
   "nbconvert_exporter": "python",
   "pygments_lexer": "ipython3",
   "version": "3.9.1"
  },
  "orig_nbformat": 4,
  "vscode": {
   "interpreter": {
    "hash": "7a14979e061517ff8db1e3d4e5b2588024b75be1831ccaffba4da2ed3a779201"
   }
  }
 },
 "nbformat": 4,
 "nbformat_minor": 2
}
